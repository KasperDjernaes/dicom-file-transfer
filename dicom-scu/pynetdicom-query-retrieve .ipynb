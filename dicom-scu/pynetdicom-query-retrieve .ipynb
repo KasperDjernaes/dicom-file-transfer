{
 "cells": [
  {
   "cell_type": "markdown",
   "metadata": {},
   "source": [
    "## Notebook to test the c find and move functionality in pynetdicom"
   ]
  },
  {
   "cell_type": "code",
   "execution_count": 7,
   "metadata": {},
   "outputs": [
    {
     "name": "stdout",
     "output_type": "stream",
     "text": [
      "The autoreload extension is already loaded. To reload it, use:\n",
      "  %reload_ext autoreload\n"
     ]
    }
   ],
   "source": [
    "%load_ext autoreload\n",
    "\n",
    "%autoreload 2"
   ]
  },
  {
   "cell_type": "code",
   "execution_count": 8,
   "metadata": {},
   "outputs": [],
   "source": [
    "from pydicom.dataset import Dataset\n",
    "from pynetdicom import AE\n",
    "from pynetdicom.sop_class import PatientRootQueryRetrieveInformationModelFind"
   ]
  },
  {
   "cell_type": "code",
   "execution_count": 9,
   "metadata": {},
   "outputs": [],
   "source": [
    "from pynetdicom import (\n",
    "    AE, evt, build_role,\n",
    "    PYNETDICOM_IMPLEMENTATION_UID,\n",
    "    PYNETDICOM_IMPLEMENTATION_VERSION,\n",
    "    StoragePresentationContexts\n",
    ")\n",
    "from pynetdicom.sop_class import (\n",
    "    PatientRootQueryRetrieveInformationModelMove,\n",
    "    CTImageStorage,\n",
    "    ComputedRadiographyImageStorage\n",
    ")"
   ]
  },
  {
   "cell_type": "code",
   "execution_count": 10,
   "metadata": {},
   "outputs": [],
   "source": [
    "import sys"
   ]
  },
  {
   "cell_type": "code",
   "execution_count": 11,
   "metadata": {},
   "outputs": [],
   "source": [
    "sys.path.append(\"lib/\")"
   ]
  },
  {
   "cell_type": "code",
   "execution_count": 12,
   "metadata": {},
   "outputs": [],
   "source": [
    "from Utils import *"
   ]
  },
  {
   "cell_type": "markdown",
   "metadata": {},
   "source": [
    "## Start the SCP, for c - Move"
   ]
  },
  {
   "cell_type": "code",
   "execution_count": 13,
   "metadata": {},
   "outputs": [],
   "source": [
    "handlers = [(evt.EVT_C_STORE, handle_store)]\n",
    "\n",
    "# Initialise the Application Entity\n",
    "ae = AE(ae_title = 'RBTEST')\n",
    "\n",
    "# Add the requested presentation contexts (QR SCU)\n",
    "ae.add_requested_context(PatientRootQueryRetrieveInformationModelMove)\n",
    "\n",
    "# Add the supported context\n",
    "ae.supported_contexts = StoragePresentationContexts\n",
    "\n",
    "# start the service class provider specifying the port\n",
    "scp = ae.start_server(('', 4284), block=False, evt_handlers=handlers)"
   ]
  },
  {
   "cell_type": "markdown",
   "metadata": {},
   "source": [
    "## Implement the c - Find"
   ]
  },
  {
   "cell_type": "code",
   "execution_count": 14,
   "metadata": {},
   "outputs": [],
   "source": [
    "# Add a requested presentation context\n",
    "ae.add_requested_context(PatientRootQueryRetrieveInformationModelFind)\n",
    "\n",
    "# Create our Identifier (query) dataset\n",
    "ds = Dataset()\n",
    "ds.PatientID = \"*\"\n",
    "ds.AccessionNumber = \"934531\"\n",
    "ds.StudyInstanceUID = '*'\n",
    "ds.QueryRetrieveLevel = 'PATIENT'\n",
    "ds.SeriesInstanceUID = \"*\"\n",
    "#ds.ReferencedInstanceSequence = \"*\""
   ]
  },
  {
   "cell_type": "code",
   "execution_count": 24,
   "metadata": {},
   "outputs": [
    {
     "name": "stdout",
     "output_type": "stream",
     "text": [
      "C-FIND query status: 0xff00\n",
      "(0008, 0005) Specific Character Set              CS: 'ISO_IR 100'\n",
      "(0008, 0052) Query/Retrieve Level                CS: 'PATIENT'\n",
      "(0010, 0020) Patient ID                          LO: '4482356'\n",
      "(0020, 000d) Study Instance UID                  UI: 1.2.840.113745.101000.1186002.40721.8111.13846623\n",
      "(0020, 000e) Series Instance UID                 UI: 1.2.276.0.7230010.3.1.3.0.32423.1424660650.923422\n",
      "C-FIND query status: 0x0000\n"
     ]
    }
   ],
   "source": [
    "# Associate with peer AE at IP 10.200.200.201 and port 104\n",
    "assoc = ae.associate('10.200.200.201', port = 104)\n",
    "\n",
    "if assoc.is_established:\n",
    "    # Use the C-FIND service to send the identifier\n",
    "    responses = assoc.send_c_find(ds, query_model = PatientRootQueryRetrieveInformationModelFind)\n",
    "    for (status, identifier) in responses:\n",
    "        if status:\n",
    "            print('C-FIND query status: 0x{0:04x}'.format(status.Status))\n",
    "\n",
    "            # If the status is 'Pending' then identifier is the C-FIND response\n",
    "            if status.Status in (0xFF00, 0xFF01):\n",
    "                ds = identifier\n",
    "                print(identifier)\n",
    "        else:\n",
    "            print('Connection timed out, was aborted or received invalid response')\n",
    "\n",
    "     # Release the association\n",
    "    assoc.release()\n",
    "else:\n",
    "    print('Association rejected, aborted or never connected')"
   ]
  },
  {
   "cell_type": "markdown",
   "metadata": {},
   "source": [
    "## Implement C - move with SCP"
   ]
  },
  {
   "cell_type": "code",
   "execution_count": 16,
   "metadata": {},
   "outputs": [],
   "source": [
    "from pydicom.dataset import Dataset\n",
    "\n",
    "from pynetdicom import AE\n",
    "from pynetdicom.sop_class import PatientRootQueryRetrieveInformationModelMove"
   ]
  },
  {
   "cell_type": "code",
   "execution_count": 17,
   "metadata": {},
   "outputs": [],
   "source": [
    "ds.QueryRetrieveLevel = 'PATIENT'\n",
    "delattr(ds, 'AccessionNumber')\n",
    "orig_ds = ds"
   ]
  },
  {
   "cell_type": "code",
   "execution_count": 18,
   "metadata": {},
   "outputs": [
    {
     "data": {
      "text/plain": [
       "(0008, 0005) Specific Character Set              CS: 'ISO_IR 100'\n",
       "(0008, 0052) Query/Retrieve Level                CS: 'PATIENT'\n",
       "(0010, 0020) Patient ID                          LO: '4482356'\n",
       "(0020, 000d) Study Instance UID                  UI: 1.2.840.113745.101000.1186002.40721.8111.13846623\n",
       "(0020, 000e) Series Instance UID                 UI: 1.2.276.0.7230010.3.1.3.0.32423.1424660650.923422"
      ]
     },
     "execution_count": 18,
     "metadata": {},
     "output_type": "execute_result"
    }
   ],
   "source": [
    "ds"
   ]
  },
  {
   "cell_type": "code",
   "execution_count": 21,
   "metadata": {},
   "outputs": [
    {
     "name": "stdout",
     "output_type": "stream",
     "text": [
      "C-MOVE query status: 0xff00\n",
      "C-MOVE query status: 0xff00\n",
      "C-MOVE query status: 0xff00\n",
      "C-MOVE query status: 0xff00\n",
      "C-MOVE query status: 0xff00\n",
      "C-MOVE query status: 0xff00\n",
      "C-MOVE query status: 0xff00\n",
      "C-MOVE query status: 0xff00\n",
      "C-MOVE query status: 0xff00\n",
      "C-MOVE query status: 0xff00\n",
      "C-MOVE query status: 0xff00\n",
      "C-MOVE query status: 0xff00\n",
      "C-MOVE query status: 0x0000\n"
     ]
    }
   ],
   "source": [
    "# Create our Identifier (query) dataset\n",
    "# We need to supply a Unique Key Attribute for each level above the\n",
    "#   Query/Retrieve level\n",
    "ds = orig_ds\n",
    "\n",
    "# Associate with peer AE at IP 10.200.200.201 and port 104\n",
    "assoc = ae.associate('10.200.200.201', 104)\n",
    "\n",
    "if assoc.is_established:\n",
    "    # Use the C-MOVE service to send the identifier. RBTEST specifies the AE title of the Storage SCP\n",
    "    # The event handler specified when initializing the SCP earlier determines what happens with the identifier\n",
    "    responses = assoc.send_c_move(ds, 'RBTEST', PatientRootQueryRetrieveInformationModelMove)\n",
    "\n",
    "    for (status, identifier) in responses:\n",
    "        if status:\n",
    "            print('C-MOVE query status: 0x{0:04x}'.format(status.Status))\n",
    "\n",
    "            # If the status is 'Pending' then `identifier` is the C-GET response\n",
    "            if status.Status in (0xFF00, 0xFF01):\n",
    "                ct_ds = identifier\n",
    "        else:\n",
    "            print('Connection timed out, was aborted or received invalid response')\n",
    "\n",
    "    # Release the association\n",
    "    assoc.release()\n",
    "else:\n",
    "    print('Association rejected, aborted or never connected')\n",
    "    \n",
    "#scp.shutdown()"
   ]
  },
  {
   "cell_type": "code",
   "execution_count": 22,
   "metadata": {},
   "outputs": [],
   "source": [
    "scp.shutdown()"
   ]
  },
  {
   "cell_type": "code",
   "execution_count": null,
   "metadata": {},
   "outputs": [],
   "source": []
  }
 ],
 "metadata": {
  "kernelspec": {
   "display_name": "Python 3",
   "language": "python",
   "name": "python3"
  },
  "language_info": {
   "codemirror_mode": {
    "name": "ipython",
    "version": 3
   },
   "file_extension": ".py",
   "mimetype": "text/x-python",
   "name": "python",
   "nbconvert_exporter": "python",
   "pygments_lexer": "ipython3",
   "version": "3.6.9"
  }
 },
 "nbformat": 4,
 "nbformat_minor": 2
}
