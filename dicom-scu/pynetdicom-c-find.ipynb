{
 "cells": [
  {
   "cell_type": "markdown",
   "metadata": {},
   "source": [
    "## Notebook to test the c find functionality in pynetdicom"
   ]
  },
  {
   "cell_type": "code",
   "execution_count": 1,
   "metadata": {},
   "outputs": [],
   "source": [
    "from pydicom.dataset import Dataset\n",
    "from pynetdicom import AE\n",
    "from pynetdicom.sop_class import PatientRootQueryRetrieveInformationModelFind"
   ]
  },
  {
   "cell_type": "code",
   "execution_count": 3,
   "metadata": {},
   "outputs": [],
   "source": [
    "from pynetdicom import (\n",
    "    AE, evt, build_role,\n",
    "    PYNETDICOM_IMPLEMENTATION_UID,\n",
    "    PYNETDICOM_IMPLEMENTATION_VERSION,\n",
    "    StoragePresentationContexts\n",
    ")\n",
    "from pynetdicom.sop_class import (\n",
    "    PatientRootQueryRetrieveInformationModelMove,\n",
    "    CTImageStorage,\n",
    "    ComputedRadiographyImageStorage\n",
    ")"
   ]
  },
  {
   "cell_type": "markdown",
   "metadata": {},
   "source": [
    "## Start the SCP"
   ]
  },
  {
   "cell_type": "code",
   "execution_count": 46,
   "metadata": {},
   "outputs": [],
   "source": [
    "# Implement the handler for evt.EVT_C_STORE\n",
    "def handle_store(event):\n",
    "    \"\"\"Handle a C-STORE request event.\"\"\"\n",
    "    ds = event.dataset\n",
    "    context = event.context\n",
    "\n",
    "    # Add the DICOM File Meta Information\n",
    "    meta = Dataset()\n",
    "    meta.MediaStorageSOPClassUID = ds.SOPClassUID\n",
    "    meta.MediaStorageSOPInstanceUID = ds.SOPInstanceUID\n",
    "    meta.ImplementationClassUID = PYNETDICOM_IMPLEMENTATION_UID\n",
    "    meta.ImplementationVersionName = PYNETDICOM_IMPLEMENTATION_VERSION\n",
    "    meta.TransferSyntaxUID = context.transfer_syntax\n",
    "\n",
    "    # Add the file meta to the dataset\n",
    "    ds.file_meta = meta\n",
    "\n",
    "    # Set the transfer syntax attributes of the dataset\n",
    "    ds.is_little_endian = context.transfer_syntax.is_little_endian\n",
    "    ds.is_implicit_VR = context.transfer_syntax.is_implicit_VR\n",
    "\n",
    "    # Save the dataset using the SOP Instance UID as the filename\n",
    "    ds.save_as(ds.SOPInstanceUID, write_like_original=False)\n",
    "\n",
    "    # Return a 'Success' status\n",
    "    return 0x0000\n",
    "\n",
    "handlers = [(evt.EVT_C_STORE, handle_store)]\n",
    "\n",
    "# Initialise the Application Entity\n",
    "ae = AE(ae_title = 'RBTEST')\n",
    "\n",
    "# Add the requested presentation contexts (QR SCU)\n",
    "ae.add_requested_context(PatientRootQueryRetrieveInformationModelMove)\n",
    "# Add the requested presentation context (Storage SCP)\n",
    "#ae.add_requested_context(CTImageStorage)\n",
    "#ae.add_requested_contexts = StoragePresentationContexts\n",
    "ae.supported_contexts = StoragePresentationContexts\n",
    "\n",
    "scp = ae.start_server(('', 4284), block=False, evt_handlers=handlers)"
   ]
  },
  {
   "cell_type": "code",
   "execution_count": 47,
   "metadata": {},
   "outputs": [],
   "source": [
    "\n",
    "# Initialise the Application Entity\n",
    "#ae = AE(ae_title = \"RBTEST\")\n",
    "\n",
    "# Add a requested presentation context\n",
    "ae.add_requested_context(PatientRootQueryRetrieveInformationModelFind)\n",
    "\n",
    "# Create our Identifier (query) dataset\n",
    "ds = Dataset()\n",
    "#ds.SOPClassesInStudy = ''\n",
    "#ds.PatientID = 'M0003'\n",
    "ds.PatientID = \"*\"\n",
    "ds.AccessionNumber = \"934531\"\n",
    "ds.StudyInstanceUID = '*'\n",
    "ds.QueryRetrieveLevel = 'PATIENT'\n",
    "ds.SeriesInstanceUID = \"*\"\n",
    "#ds.ReferencedInstanceSequence = \"*\""
   ]
  },
  {
   "cell_type": "code",
   "execution_count": 48,
   "metadata": {},
   "outputs": [
    {
     "name": "stdout",
     "output_type": "stream",
     "text": [
      "C-FIND query status: 0xff00\n",
      "(0008, 0005) Specific Character Set              CS: 'ISO_IR 100'\n",
      "(0008, 0050) Accession Number                    SH: '934531'\n",
      "(0008, 0052) Query/Retrieve Level                CS: 'PATIENT'\n",
      "(0010, 0020) Patient ID                          LO: '4482356'\n",
      "(0020, 000d) Study Instance UID                  UI: 1.2.840.113745.101000.1186002.40721.8111.13846623\n",
      "(0020, 000e) Series Instance UID                 UI: 1.2.276.0.7230010.3.1.3.0.32423.1424660650.923422\n",
      "C-FIND query status: 0x0000\n"
     ]
    }
   ],
   "source": [
    "# Associate with peer AE at IP 127.0.0.1 and port 11112\n",
    "assoc = ae.associate('10.200.200.201', port=104)\n",
    "\n",
    "if assoc.is_established:\n",
    "    # Use the C-FIND service to send the identifier\n",
    "    responses = assoc.send_c_find(ds, query_model = PatientRootQueryRetrieveInformationModelFind)\n",
    "    for (status, identifier) in responses:\n",
    "        if status:\n",
    "            print('C-FIND query status: 0x{0:04x}'.format(status.Status))\n",
    "\n",
    "            # If the status is 'Pending' then identifier is the C-FIND response\n",
    "            if status.Status in (0xFF00, 0xFF01):\n",
    "                ds = identifier\n",
    "                print(identifier)\n",
    "        else:\n",
    "            print('Connection timed out, was aborted or received invalid response')\n",
    "\n",
    "     # Release the association\n",
    "    assoc.release()\n",
    "else:\n",
    "    print('Association rejected, aborted or never connected')"
   ]
  },
  {
   "cell_type": "markdown",
   "metadata": {},
   "source": [
    "## Implement C - move with SCP"
   ]
  },
  {
   "cell_type": "code",
   "execution_count": 49,
   "metadata": {},
   "outputs": [],
   "source": [
    "from pydicom.dataset import Dataset\n",
    "\n",
    "from pynetdicom import AE\n",
    "from pynetdicom.sop_class import PatientRootQueryRetrieveInformationModelMove"
   ]
  },
  {
   "cell_type": "code",
   "execution_count": 50,
   "metadata": {},
   "outputs": [],
   "source": [
    "ds.QueryRetrieveLevel = 'PATIENT'\n",
    "delattr(ds, 'AccessionNumber')\n",
    "orig_ds = ds"
   ]
  },
  {
   "cell_type": "code",
   "execution_count": 51,
   "metadata": {},
   "outputs": [
    {
     "data": {
      "text/plain": [
       "(0008, 0005) Specific Character Set              CS: 'ISO_IR 100'\n",
       "(0008, 0052) Query/Retrieve Level                CS: 'PATIENT'\n",
       "(0010, 0020) Patient ID                          LO: '4482356'\n",
       "(0020, 000d) Study Instance UID                  UI: 1.2.840.113745.101000.1186002.40721.8111.13846623\n",
       "(0020, 000e) Series Instance UID                 UI: 1.2.276.0.7230010.3.1.3.0.32423.1424660650.923422"
      ]
     },
     "execution_count": 51,
     "metadata": {},
     "output_type": "execute_result"
    }
   ],
   "source": [
    "ds"
   ]
  },
  {
   "cell_type": "code",
   "execution_count": 52,
   "metadata": {},
   "outputs": [
    {
     "name": "stdout",
     "output_type": "stream",
     "text": [
      "C-MOVE query status: 0xff00\n",
      "C-MOVE query status: 0xff00\n",
      "C-MOVE query status: 0xff00\n",
      "C-MOVE query status: 0xff00\n",
      "C-MOVE query status: 0xff00\n",
      "C-MOVE query status: 0xff00\n",
      "C-MOVE query status: 0xff00\n",
      "C-MOVE query status: 0xff00\n",
      "C-MOVE query status: 0xff00\n",
      "C-MOVE query status: 0xff00\n",
      "C-MOVE query status: 0xff00\n",
      "C-MOVE query status: 0xff00\n",
      "C-MOVE query status: 0x0000\n"
     ]
    }
   ],
   "source": [
    "# Create our Identifier (query) dataset\n",
    "# We need to supply a Unique Key Attribute for each level above the\n",
    "#   Query/Retrieve level\n",
    "ds = orig_ds\n",
    "\n",
    "# Associate with peer AE at IP 127.0.0.1 and port 11112\n",
    "assoc = ae.associate('10.200.200.201', 104)\n",
    "\n",
    "if assoc.is_established:\n",
    "    # Use the C-GET service to send the identifier\n",
    "    responses = assoc.send_c_move(ds, 'RBTEST', PatientRootQueryRetrieveInformationModelMove)\n",
    "\n",
    "    for (status, identifier) in responses:\n",
    "        if status:\n",
    "            print('C-MOVE query status: 0x{0:04x}'.format(status.Status))\n",
    "\n",
    "            # If the status is 'Pending' then `identifier` is the C-GET response\n",
    "            if status.Status in (0xFF00, 0xFF01):\n",
    "                ct_ds = identifier\n",
    "        else:\n",
    "            print('Connection timed out, was aborted or received invalid response')\n",
    "\n",
    "    # Release the association\n",
    "    assoc.release()\n",
    "else:\n",
    "    print('Association rejected, aborted or never connected')\n",
    "    \n",
    "#scp.shutdown()"
   ]
  },
  {
   "cell_type": "code",
   "execution_count": 45,
   "metadata": {},
   "outputs": [],
   "source": [
    "scp.shutdown()"
   ]
  },
  {
   "cell_type": "markdown",
   "metadata": {},
   "source": [
    "## Implement C-move"
   ]
  },
  {
   "cell_type": "code",
   "execution_count": null,
   "metadata": {},
   "outputs": [],
   "source": [
    "from pydicom.dataset import Dataset\n",
    "\n",
    "from pynetdicom import AE\n",
    "from pynetdicom.sop_class import StudyRootQueryRetrieveInformationModelMove, PatientRootQueryRetrieveInformationModelMove\n",
    "\n",
    "# Initialise the Application Entity\n",
    "ae = AE(ae_title = \"RBTEST\")\n",
    "\n",
    "# Add a requested presentation context\n",
    "ae.add_requested_context(PatientRootQueryRetrieveInformationModelMove)\n",
    "\n",
    "# Create out identifier (query) dataset\n",
    "#ds = Dataset()\n",
    "#ds.QueryRetrieveLevel = 'SERIES'\n",
    "# Unique key for PATIENT level\n",
    "#ds.PatientID = '1234567'\n",
    "# Unique key for STUDY level\n",
    "#ds.StudyInstanceUID = '1.2.3'\n",
    "# Unique key for SERIES level\n",
    "#ds.SeriesInstanceUID = '1.2.3.4'\n",
    "\n",
    "# Associate with peer AE at IP 127.0.0.1 and port 11112\n",
    "assoc = ae.associate('10.200.200.201', 4242)\n",
    "\n",
    "if assoc.is_established:\n",
    "    # Use the C-MOVE service to send the identifier\n",
    "    responses = assoc.send_c_move(ds, b'RADIOBOTICS-PACS', PatientRootQueryRetrieveInformationModelMove)\n",
    "\n",
    "    for (status, identifier) in responses:\n",
    "        if status:\n",
    "            print('C-MOVE query status: 0x{0:04x}'.format(status.Status))\n",
    "            ds = identifier\n",
    "            # If the status is 'Pending' then the identifier is the C-MOVE response\n",
    "            if status.Status in (0xFF00, 0xFF01):\n",
    "                \n",
    "                print(identifier)\n",
    "        else:\n",
    "            print('Connection timed out, was aborted or received invalid response')\n",
    "\n",
    "    # Release the association\n",
    "    assoc.release()\n",
    "else:\n",
    "    print('Association rejected, aborted or never connected')"
   ]
  },
  {
   "cell_type": "code",
   "execution_count": null,
   "metadata": {},
   "outputs": [],
   "source": [
    "ds"
   ]
  },
  {
   "cell_type": "code",
   "execution_count": null,
   "metadata": {},
   "outputs": [],
   "source": []
  },
  {
   "cell_type": "code",
   "execution_count": null,
   "metadata": {},
   "outputs": [],
   "source": []
  },
  {
   "cell_type": "markdown",
   "metadata": {},
   "source": [
    "## Implement C-Get"
   ]
  },
  {
   "cell_type": "code",
   "execution_count": null,
   "metadata": {},
   "outputs": [],
   "source": [
    "from pydicom.dataset import Dataset\n",
    "\n",
    "from pynetdicom import (\n",
    "    AE, evt, build_role,\n",
    "    PYNETDICOM_IMPLEMENTATION_UID,\n",
    "    PYNETDICOM_IMPLEMENTATION_VERSION,\n",
    "    StoragePresentationContexts\n",
    ")\n",
    "from pynetdicom.sop_class import (\n",
    "    PatientRootQueryRetrieveInformationModelGet,\n",
    "    CTImageStorage,\n",
    "    DigitalXRayImagePresentationStorage,\n",
    "    ComputedRadiographyImageStorage\n",
    ")"
   ]
  },
  {
   "cell_type": "code",
   "execution_count": null,
   "metadata": {},
   "outputs": [],
   "source": [
    "# Create our Identifier (query) dataset\n",
    "# We need to supply a Unique Key Attribute for each level above the\n",
    "#   Query/Retrieve level\n"
   ]
  },
  {
   "cell_type": "code",
   "execution_count": null,
   "metadata": {},
   "outputs": [],
   "source": [
    "\n",
    "ds.QueryRetrieveLevel = 'SERIES'\n",
    "# Unique key for PATIENT level\n",
    "#ds.PatientID = '1234567'\n",
    "# Unique key for STUDY level\n",
    "#ds.StudyInstanceUID = '1.2.3'\n",
    "# Unique key for SERIES level\n",
    "#ds.SeriesInstanceUID = '1.2.3.4'"
   ]
  },
  {
   "cell_type": "code",
   "execution_count": null,
   "metadata": {},
   "outputs": [],
   "source": [
    "ds"
   ]
  },
  {
   "cell_type": "code",
   "execution_count": null,
   "metadata": {},
   "outputs": [],
   "source": [
    "handlers = [(evt.EVT_C_STORE, handle_store)]\n",
    "\n",
    "# Initialise the Application Entity\n",
    "ae = AE()\n",
    "\n",
    "# Add the requested presentation contexts (QR SCU)\n",
    "ae.add_requested_context(PatientRootQueryRetrieveInformationModelGet)\n",
    "# Add the requested presentation context (Storage SCP)\n",
    "ae.add_requested_context(ComputedRadiographyImageStorage)\n",
    "\n",
    "# Create an SCP/SCU Role Selection Negotiation item for CT Image Storage\n",
    "role = build_role(ComputedRadiographyImageStorage, scp_role=True)\n",
    "\n",
    "\n",
    "# Associate with peer AE at IP 127.0.0.1 and port 11112\n",
    "assoc = ae.associate('10.200.200.201', port=4242, ext_neg=[role], evt_handlers=handlers)\n",
    "\n",
    "if assoc.is_established:\n",
    "    print(\"ME\")\n",
    "    # Use the C-GET service to send the identifier\n",
    "    responses = assoc.send_c_get(ds, PatientRootQueryRetrieveInformationModelGet)\n",
    "\n",
    "    for (status, identifier) in responses:\n",
    "        if status:\n",
    "            print('C-GET query status: 0x{0:04x}'.format(status.Status))w\n",
    "\n",
    "            # If the status is 'Pending' then `identifier` is the C-GET response\n",
    "            if status.Status in (0xFF00, 0xFF01):\n",
    "                print(identifier)\n",
    "        else:\n",
    "            print('Connection timed out, was aborted or received invalid response')\n",
    "\n",
    "    # Release the association\n",
    "    assoc.release()\n",
    "else:\n",
    "    print('Association rejected, aborted or never connected')"
   ]
  },
  {
   "cell_type": "code",
   "execution_count": null,
   "metadata": {},
   "outputs": [],
   "source": [
    "# Implement the handler for evt.EVT_C_STORE\n",
    "def handle_store(event):\n",
    "    \"\"\"Handle a C-STORE request event.\"\"\"\n",
    "    ds = event.dataset\n",
    "    context = event.context\n",
    "\n",
    "    # Add the DICOM File Meta Information\n",
    "    meta = Dataset()\n",
    "    meta.MediaStorageSOPClassUID = ds.SOPClassUID\n",
    "    meta.MediaStorageSOPInstanceUID = ds.SOPInstanceUID\n",
    "    meta.ImplementationClassUID = PYNETDICOM_IMPLEMENTATION_UID\n",
    "    meta.ImplementationVersionName = PYNETDICOM_IMPLEMENTATION_VERSION\n",
    "    meta.TransferSyntaxUID = context.transfer_syntax\n",
    "\n",
    "    # Add the file meta to the dataset\n",
    "    ds.file_meta = meta\n",
    "\n",
    "    # Set the transfer syntax attributes of the dataset\n",
    "    ds.is_little_endian = context.transfer_syntax.is_little_endian\n",
    "    ds.is_implicit_VR = context.transfer_syntax.is_implicit_VR\n",
    "\n",
    "    # Save the dataset using the SOP Instance UID as the filename\n",
    "    ds.save_as(ds.SOPInstanceUID, write_like_original=False)\n",
    "\n",
    "    # Return a 'Success' status\n",
    "    return 0x0000"
   ]
  },
  {
   "cell_type": "code",
   "execution_count": null,
   "metadata": {},
   "outputs": [],
   "source": []
  },
  {
   "cell_type": "code",
   "execution_count": null,
   "metadata": {},
   "outputs": [],
   "source": [
    "\n",
    "    # Add the DICOM File Meta Information\n",
    "    meta = Dataset()\n",
    "    meta.MediaStorageSOPClassUID = ds.SOPClassUID\n",
    "    meta.MediaStorageSOPInstanceUID = ds.SOPInstanceUID\n",
    "    meta.ImplementationClassUID = PYNETDICOM_IMPLEMENTATION_UID\n",
    "    meta.ImplementationVersionName = PYNETDICOM_IMPLEMENTATION_VERSION\n",
    "    meta.TransferSyntaxUID = context.transfer_syntax\n",
    "\n",
    "    # Add the file meta to the dataset\n",
    "    ds.file_meta = meta\n",
    "\n",
    "    # Set the transfer syntax attributes of the dataset\n",
    "    ds.is_little_endian = context.transfer_syntax.is_little_endian\n",
    "    ds.is_implicit_VR = context.transfer_syntax.is_implicit_VR\n",
    "\n",
    "    # Save the dataset using the SOP Instance UID as the filename\n",
    "    ds.save_as(ds.SOPInstanceUID, write_like_original=False)"
   ]
  }
 ],
 "metadata": {
  "kernelspec": {
   "display_name": "Python 3",
   "language": "python",
   "name": "python3"
  },
  "language_info": {
   "codemirror_mode": {
    "name": "ipython",
    "version": 3
   },
   "file_extension": ".py",
   "mimetype": "text/x-python",
   "name": "python",
   "nbconvert_exporter": "python",
   "pygments_lexer": "ipython3",
   "version": "3.6.9"
  }
 },
 "nbformat": 4,
 "nbformat_minor": 2
}
